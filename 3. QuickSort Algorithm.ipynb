{
 "cells": [
  {
   "cell_type": "code",
   "execution_count": 44,
   "metadata": {},
   "outputs": [
    {
     "name": "stdout",
     "output_type": "stream",
     "text": [
      "([1, 2, 3, 4, 5, 6], 5, 0)\n",
      "([1, 2, 3, 4, 5, 6], 5, 5)\n",
      "([1, 2, 3, 4, 5, 6], 5, 2)\n",
      "([0, 7, 4, 2, 1, 9], 5, 5)\n",
      "([0, 7, 4, 2, 1, 9], 5, 0)\n",
      "([0, 2, 1, 4, 9, 7], 5, 3)\n",
      "([3, 2, 4, 1, 2, 5, 10, 9, 8], 8, 5)\n",
      "([2, 2, 1, 3, 8, 4, 10, 9, 5], 8, 3)\n",
      "([1, 2, 8, 4, 5, 2, 10, 9, 3], 8, 0)\n"
     ]
    }
   ],
   "source": [
    "def partition(array, pivotPosition):\n",
    "    \"\"\"To partition a array based on the chosen pivot based on the pivotPosition argument\n",
    "       It returns: 1. the \"sorted\" array based on the pivot, the left half from the pivot is smaller than the pivot,\n",
    "                      and the right half from the pivot is larger than the pivot.\n",
    "                   2. count of comparison performed\n",
    "                   3. the position of the pivot after sorted\n",
    "    \"\"\"\n",
    "    \n",
    "    # if pivot position is not the first element, swap it with the first element\n",
    "    # so that the pivot element is the first element of the array\n",
    "    \n",
    "    if pivotPosition != 0:\n",
    "        array[0], array[pivotPosition] = array[pivotPosition], array[0]\n",
    "    \n",
    "    \n",
    "    # initiatize the pivot element, i pointer of last element that smaller than pivot, start of range, and end of range\n",
    "    \n",
    "    pivot = array[0]\n",
    "    i = 1\n",
    "    start = 1\n",
    "    end = len(array)\n",
    "   \n",
    "\n",
    "    # for loop to compare each element of array to pivot, and swap i th and j th element\n",
    "    # if j th element is smaller than pivot\n",
    "    \n",
    "    for j in range(start, end):\n",
    "        if array[j] <= pivot:\n",
    "            array[i], array[j] = array[j], array[i]\n",
    "            i += 1\n",
    "            \n",
    "    \n",
    "    # swap for the pivot element and the (i-1) th position so that in the sorted array, left half from pivot is smaller than \n",
    "    # the pivot, and right half of pivot is larger than the pivot\n",
    "    \n",
    "    array[i-1], array[0] = array[0], array[i-1]\n",
    "    position = i-1\n",
    "    \n",
    "    \n",
    "    # return sorted array, count of comparison happend, and position of pivot element in sorted array\n",
    "    \n",
    "    return array, len(array)-1, position           \n",
    "\n",
    "\n",
    "if __name__ == \"__main__\":\n",
    "    lis1 = [1, 2, 3, 4, 5, 6]\n",
    "    lis2 = [1, 2, 3, 4, 5, 6]\n",
    "    lis3 = [1, 2, 3, 4, 5, 6]\n",
    "    lis4 = [9, 7, 4, 2, 1, 0]\n",
    "    lis5 = [9, 7, 4, 2, 1, 0]\n",
    "    lis6 = [9, 7, 4, 2, 1, 0]\n",
    "    lis7 = [5, 2, 8, 4, 1, 2, 10, 9, 3]\n",
    "    lis8 = [5, 2, 8, 4, 1, 2, 10, 9, 3]\n",
    "    lis9 = [5, 2, 8, 4, 1, 2, 10, 9, 3]\n",
    "    print(partition(lis1, 0))\n",
    "    print(partition(lis2, 5))\n",
    "    print(partition(lis3, 2))\n",
    "    print(partition(lis4, 0))\n",
    "    print(partition(lis5, 5))\n",
    "    print(partition(lis6, 2))\n",
    "    print(partition(lis7, 0))\n",
    "    print(partition(lis8, 8))\n",
    "    print(partition(lis9, 4))"
   ]
  },
  {
   "cell_type": "code",
   "execution_count": 45,
   "metadata": {},
   "outputs": [
    {
     "name": "stdout",
     "output_type": "stream",
     "text": [
      "([1, 2, 2, 3, 4, 5, 8, 9, 10], 18)\n",
      "([1, 2, 3, 4, 5, 6], 15)\n",
      "([0, 1, 2, 4, 7, 9], 15)\n"
     ]
    }
   ],
   "source": [
    "def quickSort1(array):\n",
    "    \"\"\"Quick Sort algorithm to use first element of the array as pivot element,\n",
    "       Arguments is the unsorted array, as well as the length of the array\n",
    "       Return the sorted array as well as the count of comparisons happened \n",
    "    \"\"\"\n",
    "    \n",
    "    # base case\n",
    "    if len(array) <= 1:\n",
    "        return array, 0\n",
    "    \n",
    "    # recursion\n",
    "    else:\n",
    "        array1, count1, position = partition(array, 0)\n",
    "        array2, count2 = quickSort1(array[:position])\n",
    "        array3, count3 = quickSort1(array[position+1:])\n",
    "        return array2+[array1[position]]+array3, (count1+count2+count3)\n",
    "        \n",
    "if __name__ == \"__main__\":\n",
    "    lis1 = [5, 2, 8, 4, 1, 2, 10, 9, 3]\n",
    "    print(quickSort1(lis1))\n",
    "    lis2 = [1, 2, 3, 4, 5, 6]\n",
    "    print(quickSort1(lis2))\n",
    "    lis3 = [9, 7, 4, 2, 1, 0]\n",
    "    print(quickSort1(lis3))\n",
    "    "
   ]
  },
  {
   "cell_type": "code",
   "execution_count": 46,
   "metadata": {
    "scrolled": false
   },
   "outputs": [
    {
     "name": "stdout",
     "output_type": "stream",
     "text": [
      "([1, 2, 2, 3, 4, 5, 8, 9, 10], 18)\n",
      "([1, 2, 3, 4, 5, 6], 15)\n",
      "([0, 1, 2, 4, 7, 9], 15)\n"
     ]
    }
   ],
   "source": [
    "def quickSort2(array):\n",
    "    \"\"\"Quick Sort algorithm to use final element of the array as pivot element,\n",
    "       Arguments is the unsorted array, as well as the length of the array\n",
    "       Return the sorted array as well as the count of comparisons happened \n",
    "    \"\"\"\n",
    "    \n",
    "    # base case\n",
    "    if len(array) <= 1:\n",
    "        return array, 0\n",
    "    \n",
    "    # recursion\n",
    "    else:\n",
    "        array1, count1, position = partition(array, len(array)-1)\n",
    "        array2, count2 = quickSort2(array[:position])\n",
    "        array3, count3 = quickSort2(array[position+1:])\n",
    "        return array2+[array1[position]]+array3, (count1+count2+count3)\n",
    "        \n",
    "if __name__ == \"__main__\":\n",
    "    lis1 = [5, 2, 8, 4, 1, 2, 10, 9, 3]\n",
    "    print(quickSort2(lis1))\n",
    "    lis2 = [1, 2, 3, 4, 5, 6]\n",
    "    print(quickSort2(lis2))\n",
    "    lis3 = [9, 7, 4, 2, 1, 0]\n",
    "    print(quickSort2(lis3))"
   ]
  },
  {
   "cell_type": "code",
   "execution_count": 47,
   "metadata": {},
   "outputs": [
    {
     "name": "stdout",
     "output_type": "stream",
     "text": [
      "([1, 2, 2, 3, 4, 5, 8, 9, 10], 17)\n",
      "([1, 2, 3, 4, 5, 6], 8)\n",
      "([0, 1, 2, 4, 7, 9], 8)\n"
     ]
    }
   ],
   "source": [
    "def choosePivot(array):\n",
    "    \"\"\"\n",
    "        To apply the \"median-of-three\" pivot rule to find the pivot\n",
    "        Returns the position of the median number of three element picked\n",
    "    \"\"\"\n",
    "    \n",
    "    import numpy\n",
    "    \n",
    "    if len(array) < 3:\n",
    "        return 0\n",
    "    \n",
    "    else:\n",
    "    # to get the three elements: first, middle, and last element of the array, and put them in dictionary\n",
    "    # using array index as key and element value as value\n",
    "        last = len(array)-1\n",
    "        \n",
    "        if ((last + 1) % 2) == 0:\n",
    "            middle = (last + 1) // 2 - 1\n",
    "        else:\n",
    "            middle = (last + 1) // 2\n",
    "\n",
    "        # find the median value using numpy\n",
    "        median = sorted([array[0], array[middle], array[last]])[1]\n",
    "\n",
    "        # look up the corresponding key for the index of the median-of three value\n",
    "        if median == array[0]:\n",
    "            return 0\n",
    "        elif median == array[last]:\n",
    "            return last\n",
    "        else:\n",
    "            return middle\n",
    "        \n",
    "\n",
    "\n",
    "def quickSort3(array):\n",
    "    \"\"\"Quick Sort algorithm to use the \"median-of-three\" pivot rule to pick the pivot element,\n",
    "       Arguments is the unsorted array, as well as the length of the array\n",
    "       Return the sorted array as well as the count of comparisons happened \n",
    "    \"\"\"\n",
    "    \n",
    "    # base case\n",
    "    if len(array) <= 1:\n",
    "        return array, 0\n",
    "    \n",
    "    # recursion\n",
    "    else:\n",
    "        pivot = choosePivot(array)\n",
    "        array1, count1, position = partition(array, pivot)\n",
    "        array2, count2 = quickSort3(array[:position])\n",
    "        array3, count3 = quickSort3(array[position+1:])\n",
    "        return array2+[array1[position]]+array3, (count1+count2+count3)\n",
    "        \n",
    "if __name__ == \"__main__\":\n",
    "    lis1 = [5, 2, 8, 4, 1, 2, 10, 9, 3]\n",
    "    print(quickSort3(lis1))\n",
    "    lis2 = [1, 2, 3, 4, 5, 6]\n",
    "    print(quickSort3(lis2))\n",
    "    lis3 = [9, 7, 4, 2, 1, 0]\n",
    "    print(quickSort3(lis3))"
   ]
  },
  {
   "cell_type": "code",
   "execution_count": 48,
   "metadata": {},
   "outputs": [
    {
     "name": "stdout",
     "output_type": "stream",
     "text": [
      "Run time of Quick Sort Algorithm using first element as pivot element is 0.03999519348144531 second(s), and total count of comparison is 162085.\n",
      "Run time of Quick Sort Algorithm using last element as pivot element is 0.030038118362426758 second(s), and total count of comparison is 164893.\n",
      "Run time of Quick Sort Algorithm using the \"median-of-three\" pivot rule is 0.016129732131958008 second(s), and total count of comparison is 135633\n"
     ]
    }
   ],
   "source": [
    "def homework3():\n",
    "    \"\"\"HW3: https://www.coursera.org/learn/algorithms-divide-conquer/exam/37cop/programming-assignment-3/attempt\n",
    "         The file contains all of the integers between 1 and 10,000 (inclusive, with no repeats) in unsorted order.  \n",
    "         The integer in the i th row of the file gives you the i th entry of an input array. Your task is to compute \n",
    "         the total number of comparisons used to sort the given input file by QuickSort.  \n",
    "    \"\"\"\n",
    "    import time\n",
    "    \n",
    "    # read the input file, and output a list of all numbers\n",
    "    try:\n",
    "        with open(\"QuickSort.txt\") as file:\n",
    "            lines = file.read().splitlines()\n",
    "            arrays = [int(i) for i in lines]\n",
    "    except:\n",
    "        print(\"Something went wrong\")\n",
    "        \n",
    "    start = time.time()\n",
    "    sortedArray1, count1 = quickSort1(arrays)\n",
    "    end = time.time()\n",
    "    print(f\"Run time of Quick Sort Algorithm using first element as pivot element is {end - start} second(s), and total count of comparison is {count1}.\")\n",
    "    \n",
    "    start = time.time()\n",
    "    sortedArray2, count2 = quickSort2(arrays)\n",
    "    end = time.time()\n",
    "    print(f\"Run time of Quick Sort Algorithm using last element as pivot element is {end - start} second(s), and total count of comparison is {count2}.\")\n",
    "    \n",
    "    start = time.time()\n",
    "    sortedArray3, count3 = quickSort3(arrays)\n",
    "    end = time.time()\n",
    "    print(f\"Run time of Quick Sort Algorithm using the \\\"median-of-three\\\" pivot rule is {end - start} second(s), and total count of comparison is {count3}\")\n",
    "    \n",
    "    \n",
    "if __name__ == \"__main__\":\n",
    "    homework3()\n",
    "    "
   ]
  }
 ],
 "metadata": {
  "kernelspec": {
   "display_name": "Python 3",
   "language": "python",
   "name": "python3"
  },
  "language_info": {
   "codemirror_mode": {
    "name": "ipython",
    "version": 3
   },
   "file_extension": ".py",
   "mimetype": "text/x-python",
   "name": "python",
   "nbconvert_exporter": "python",
   "pygments_lexer": "ipython3",
   "version": "3.8.5"
  }
 },
 "nbformat": 4,
 "nbformat_minor": 4
}
