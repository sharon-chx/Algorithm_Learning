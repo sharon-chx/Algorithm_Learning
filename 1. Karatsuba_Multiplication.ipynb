{
 "cells": [
  {
   "cell_type": "code",
   "execution_count": 30,
   "metadata": {},
   "outputs": [
    {
     "name": "stdout",
     "output_type": "stream",
     "text": [
      "8539734222673567065463550869546574495034888535765114961879601127067743044893204848617875072216249073013374895871952806582723184\n"
     ]
    }
   ],
   "source": [
    "def karatsuba(num1, num2):\n",
    "    \"\"\"\n",
    "    Recursive Algorithm 1: Karatsuba Multiplication\n",
    "        x = 10**(n/2)*a + b\n",
    "        y = 10**(n/2)*c + d\n",
    "        Where a,b,c,d are n/2 digit numbers\n",
    "        Then x*y = (10**n*a*c) + 10**(n/2)*(a*d+b*c) + b*d\n",
    "        where a*d+b*c = (a+b)*(c+d) - a*c - b*d\n",
    "    \"\"\"\n",
    "    \n",
    "    # base case:\n",
    "    if num1 < 10 or num2 < 10:\n",
    "        return num1*num2\n",
    "    \n",
    "    else:\n",
    "        \n",
    "        # Calculates the minimum size of the numbers and find the middle point\n",
    "        n = min(int(len(str(num1))), int(len(str(num2))))\n",
    "        if n % 2 == 1:\n",
    "            n = n // 2 + 1\n",
    "        else:\n",
    "            n = n // 2\n",
    "        \n",
    "        # Split the digit sequences in the middle\n",
    "        a, b = divmod(num1, 10**n)\n",
    "        c, d = divmod(num2, 10**n)\n",
    "        \n",
    "        # 3 recursive calls to get three numbers needed for Karatsuba Multiplication\n",
    "        num1 = karatsuba(a, c)\n",
    "        num2 = karatsuba(b, d)\n",
    "        num3 = karatsuba(a+b, c+d)\n",
    "        \n",
    "        # Return the result of Karatsuba Multiplication\n",
    "        return 10**(n*2)*num1 + 10**n*(num3 - num1 - num2) + num2\n",
    "    \n",
    "\n",
    "\n",
    "a = 3141592653589793238462643383279502884197169399375105820974944592\n",
    "b = 2718281828459045235360287471352662497757247093699959574966967627\n",
    "\n",
    "print(karatsuba(a, b))"
   ]
  }
 ],
 "metadata": {
  "kernelspec": {
   "display_name": "Python 3",
   "language": "python",
   "name": "python3"
  },
  "language_info": {
   "codemirror_mode": {
    "name": "ipython",
    "version": 3
   },
   "file_extension": ".py",
   "mimetype": "text/x-python",
   "name": "python",
   "nbconvert_exporter": "python",
   "pygments_lexer": "ipython3",
   "version": "3.8.5"
  }
 },
 "nbformat": 4,
 "nbformat_minor": 4
}
